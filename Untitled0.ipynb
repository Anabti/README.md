{
  "nbformat": 4,
  "nbformat_minor": 0,
  "metadata": {
    "colab": {
      "provenance": [],
      "authorship_tag": "ABX9TyMGK+rknYZb8vPtALI2CIwE",
      "include_colab_link": true
    },
    "kernelspec": {
      "name": "python3",
      "display_name": "Python 3"
    },
    "language_info": {
      "name": "python"
    }
  },
  "cells": [
    {
      "cell_type": "markdown",
      "metadata": {
        "id": "view-in-github",
        "colab_type": "text"
      },
      "source": [
        "<a href=\"https://colab.research.google.com/github/Anabti/README.md/blob/main/Untitled0.ipynb\" target=\"_parent\"><img src=\"https://colab.research.google.com/assets/colab-badge.svg\" alt=\"Open In Colab\"/></a>"
      ]
    },
    {
      "cell_type": "code",
      "source": [],
      "metadata": {
        "id": "vQHsOFbpmNLm"
      },
      "execution_count": null,
      "outputs": []
    },
    {
      "cell_type": "markdown",
      "source": [
        "**Exercicio 1**"
      ],
      "metadata": {
        "id": "ZGNu7SieY70w"
      }
    },
    {
      "cell_type": "code",
      "source": [
        "CD1 =float(input(\"Digite a cotação do Dolar:\"))\n",
        "CD2 =float(input(\"Digite o valor que quer converter em dolar:\"))\n",
        "conta = CD2 /CD1\n",
        "print  (\"Esse valor convertido para dolar é:\",conta)"
      ],
      "metadata": {
        "id": "eHsQW0bDeLoz",
        "colab": {
          "base_uri": "https://localhost:8080/"
        },
        "outputId": "a3dc508d-75a1-4b40-c061-d8db2999981c"
      },
      "execution_count": null,
      "outputs": [
        {
          "output_type": "stream",
          "name": "stdout",
          "text": [
            "Digite a cotação do Dolar:4.5\n",
            "Digite o valor que quer converter em dolar:100.00\n",
            "Esse valor convertido para dolar é: 22.22222222222222\n"
          ]
        }
      ]
    },
    {
      "cell_type": "markdown",
      "source": [
        "**Exercicos 2**"
      ],
      "metadata": {
        "id": "a-dDut-GeHiV"
      }
    },
    {
      "cell_type": "code",
      "source": [
        "N1 =float(input(\"Digite N1:\"))\n",
        "N2 =float(input(\"Digite N2:\"))\n",
        "N3 =float(input(\"Digite N3:\"))\n",
        "N4 =float(input(\"Digite N4:\"))\n",
        "conta1 = N1 * N1,N2 * N2,N3* N3,N4*N4\n",
        "\n",
        "print (\"O Quadrado dos numéros são:\",conta1)\n",
        "\n",
        "conta2 =( N1 * N1) + ( N2 * N2) +(N3 * N3)+ ( N4 * 2N4 )\n",
        "print (\"a soma é :\",conta2)"
      ],
      "metadata": {
        "colab": {
          "base_uri": "https://localhost:8080/"
        },
        "id": "VgF96aribdP0",
        "outputId": "341b550e-fb9c-4990-df0b-6cfb100ec1e5"
      },
      "execution_count": null,
      "outputs": [
        {
          "output_type": "stream",
          "name": "stdout",
          "text": [
            "Digite N1:2\n",
            "Digite N2:4\n",
            "Digite N3:5\n",
            "Digite N4:6\n",
            "O Quadrado dos numéros são: (4.0, 16.0, 25.0, 36.0)\n",
            "a soma é : 81.0\n"
          ]
        }
      ]
    },
    {
      "cell_type": "markdown",
      "source": [
        "**Exercicio 3**"
      ],
      "metadata": {
        "id": "qL1SMMG5uwj1"
      }
    },
    {
      "cell_type": "code",
      "execution_count": null,
      "metadata": {
        "id": "yyzYM0pnS4xm",
        "colab": {
          "base_uri": "https://localhost:8080/"
        },
        "outputId": "a12a6255-b3dd-46b0-eb7b-9295db0cf4ae"
      },
      "outputs": [
        {
          "output_type": "stream",
          "name": "stdout",
          "text": [
            "Digite o preço da PU 2.5\n",
            "Digite o preço da Qv200\n",
            "o total de vendas é : 500.0\n",
            "A comissão do vendedor é : 25.0\n"
          ]
        }
      ],
      "source": [
        "PU=float(input(\"Digite o preço da PU \"))\n",
        "Qv= float(input(\"Digite o preço da Qv\"))\n",
        "conta1 = PU * Qv\n",
        "print (\"o total de vendas é :\",conta1)\n",
        "conta2 = conta1 * 0.05\n",
        "print (\"A comissão do vendedor é :\",conta2)\n",
        "\n",
        "\n"
      ]
    },
    {
      "cell_type": "markdown",
      "source": [
        "**Exercicio 4**"
      ],
      "metadata": {
        "id": "kNsxWGN51GW2"
      }
    },
    {
      "cell_type": "code",
      "source": [
        "cfc= float(input(\"Digite o custo de fábrica do carro:\"))\n",
        "conta = (cfc*1.45 ) * 1.28\n",
        "print (\"O custo para o consumidor será de:\", conta)"
      ],
      "metadata": {
        "id": "WcgT-Sx51Mq5",
        "colab": {
          "base_uri": "https://localhost:8080/"
        },
        "outputId": "aaee3f35-789f-412d-87f8-f3df8a7fe4c6"
      },
      "execution_count": null,
      "outputs": [
        {
          "output_type": "stream",
          "name": "stdout",
          "text": [
            "Digite o custo de fábrica do carro:25000\n",
            "O custo para o consumidor será de: 46400.0\n"
          ]
        }
      ]
    },
    {
      "cell_type": "markdown",
      "source": [
        "**Exercicio 5**"
      ],
      "metadata": {
        "id": "Tsz5cofIwGjX"
      }
    },
    {
      "cell_type": "code",
      "source": [
        "hora = float (input(\"Digite a hora:\"))\n",
        "min = float(input(\"digite os minutos:\"))\n",
        "conta = (hora *60 )+(min * 60)\n",
        "print (\"A conversão em segundos é :\",conta)"
      ],
      "metadata": {
        "id": "rbG6XS_1wV1G",
        "colab": {
          "base_uri": "https://localhost:8080/"
        },
        "outputId": "0ace567b-67ed-45be-d432-686afc200dd7"
      },
      "execution_count": 16,
      "outputs": [
        {
          "output_type": "stream",
          "name": "stdout",
          "text": [
            "Digite a hora:4\n",
            "digite os minutos:23\n",
            "A conversão em segundos é : 1620.0\n"
          ]
        }
      ]
    },
    {
      "cell_type": "markdown",
      "source": [
        "**Exercicio 6**"
      ],
      "metadata": {
        "id": "dG3bTpzQLwxR"
      }
    },
    {
      "cell_type": "code",
      "source": [
        "horas = float(input(\"Digite a quantidade de horastrabalhada:\"))\n",
        "min = float(input(\"Digite a quantidade de min trabalhados:\"))\n",
        "qtde = float(input(\"Digite a quantidade de horastrabalhada:\"))"
      ],
      "metadata": {
        "id": "0ZpVqJCfMTWR"
      },
      "execution_count": null,
      "outputs": []
    },
    {
      "cell_type": "markdown",
      "source": [
        "**Exercicio 8**"
      ],
      "metadata": {
        "id": "Kr-7FKQ3FA8t"
      }
    },
    {
      "cell_type": "code",
      "source": [
        "# coletando os valores para as variáveis de entrada\n",
        "distancia = float(input(\"Digite a distância percorrida :\"))\n",
        "qtde_horas = int(input(\"Digite a qtde de horas gastas:\"))\n",
        "qtde_min = int(input(\"Digite a qtde de min gastas:\"))\n"
      ],
      "metadata": {
        "colab": {
          "base_uri": "https://localhost:8080/"
        },
        "id": "Jme5vLTOEmti",
        "outputId": "7b2617e9-7f18-4f5f-d92c-ff640c32409e"
      },
      "execution_count": 4,
      "outputs": [
        {
          "name": "stdout",
          "output_type": "stream",
          "text": [
            "Digite a distância percorrida :150\n",
            "Digite a qtde de horas gastas:1\n",
            "Digite a qtde de min gastas:13\n"
          ]
        }
      ]
    },
    {
      "cell_type": "code",
      "source": [
        "tempo_total =qtde_horas+ (qtde_min/60)"
      ],
      "metadata": {
        "id": "r3_gghgkG6J0"
      },
      "execution_count": 2,
      "outputs": []
    },
    {
      "cell_type": "code",
      "source": [
        "# processamento\n",
        "tempo_total =qtde_horas + (qtde_min/60)\n",
        "velocidade = distancia/tempo_total"
      ],
      "metadata": {
        "id": "vD54OgaXIAnh"
      },
      "execution_count": 7,
      "outputs": []
    },
    {
      "cell_type": "code",
      "source": [
        "tempo_total"
      ],
      "metadata": {
        "colab": {
          "base_uri": "https://localhost:8080/"
        },
        "id": "mO36hEIPHJjz",
        "outputId": "c48e0814-a596-42e4-f0c9-d4531ccc7ce7"
      },
      "execution_count": 3,
      "outputs": [
        {
          "output_type": "execute_result",
          "data": {
            "text/plain": [
              "1.2166666666666668"
            ]
          },
          "metadata": {},
          "execution_count": 3
        }
      ]
    },
    {
      "cell_type": "code",
      "source": [
        "# saida do programa\n",
        "print (\"A velocidade média é de:\",velocidade,\"km/h\")\n"
      ],
      "metadata": {
        "colab": {
          "base_uri": "https://localhost:8080/"
        },
        "id": "P6-iUioLIZkp",
        "outputId": "8d9d0bf6-026e-4b7c-86d2-ba3801643d10"
      },
      "execution_count": 9,
      "outputs": [
        {
          "output_type": "stream",
          "name": "stdout",
          "text": [
            "A velocidade média é de: 123.2876712328767 km/h\n"
          ]
        }
      ]
    },
    {
      "cell_type": "code",
      "source": [
        "numero = 123.2876712328767\n",
        "resultado= round(numero,2)\n",
        "print(resultado)\n"
      ],
      "metadata": {
        "colab": {
          "base_uri": "https://localhost:8080/"
        },
        "id": "d_15R-M8I-SS",
        "outputId": "a9c148e3-7ffd-4368-f9b6-220802ec4d3e"
      },
      "execution_count": 12,
      "outputs": [
        {
          "output_type": "stream",
          "name": "stdout",
          "text": [
            "123.29\n"
          ]
        }
      ]
    }
  ]
}