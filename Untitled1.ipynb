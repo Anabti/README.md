{
  "nbformat": 4,
  "nbformat_minor": 0,
  "metadata": {
    "colab": {
      "provenance": [],
      "authorship_tag": "ABX9TyPtqecF/GX3nSEjK193Xccj",
      "include_colab_link": true
    },
    "kernelspec": {
      "name": "python3",
      "display_name": "Python 3"
    },
    "language_info": {
      "name": "python"
    }
  },
  "cells": [
    {
      "cell_type": "markdown",
      "metadata": {
        "id": "view-in-github",
        "colab_type": "text"
      },
      "source": [
        "<a href=\"https://colab.research.google.com/github/Anabti/README.md/blob/main/Untitled1.ipynb\" target=\"_parent\"><img src=\"https://colab.research.google.com/assets/colab-badge.svg\" alt=\"Open In Colab\"/></a>"
      ]
    },
    {
      "cell_type": "code",
      "execution_count": 30,
      "metadata": {
        "colab": {
          "base_uri": "https://localhost:8080/"
        },
        "id": "zm62ZNdjYmwW",
        "outputId": "1a03dba1-1e6e-4db8-c15b-53f4353523c2"
      },
      "outputs": [
        {
          "output_type": "stream",
          "name": "stdout",
          "text": [
            "0 Bom Dia!\n",
            "1 Bom Dia!\n",
            "2 Bom Dia!\n",
            "3 Bom Dia!\n",
            "4 Bom Dia!\n",
            "5 Bom Dia!\n",
            "6 Bom Dia!\n",
            "7 Bom Dia!\n",
            "8 Bom Dia!\n",
            "9 Bom Dia!\n"
          ]
        }
      ],
      "source": [
        "# LAÇO DE REPETIÇÃO FOR\n",
        "for i in range(10) :\n",
        "        print(i,\"Bom Dia!\")"
      ]
    },
    {
      "cell_type": "code",
      "source": [
        "# MOSTRAR TODOS OS NÚMEROS ÍMPARES DE 1 A 30\n",
        "for i in range(1,31) :\n",
        "    if i%2==1:\n",
        "          print(i)\n"
      ],
      "metadata": {
        "colab": {
          "base_uri": "https://localhost:8080/"
        },
        "id": "B3ADnxWEbjMd",
        "outputId": "3557800a-fc03-43c4-d136-92ecdae1926f"
      },
      "execution_count": 39,
      "outputs": [
        {
          "output_type": "stream",
          "name": "stdout",
          "text": [
            "1\n",
            "3\n",
            "5\n",
            "7\n",
            "9\n",
            "11\n",
            "13\n",
            "15\n",
            "17\n",
            "19\n",
            "21\n",
            "23\n",
            "25\n",
            "27\n",
            "29\n"
          ]
        }
      ]
    },
    {
      "cell_type": "markdown",
      "source": [],
      "metadata": {
        "id": "vE73RAlti94G"
      }
    },
    {
      "cell_type": "code",
      "source": [
        "\n",
        "#CONTADOR DE UM NÚMERO INICIAL E UM NÚMERO FINAL\n",
        "#DIGITADOS PELO USÚARIO\n",
        "\n",
        "inicio = int(input(\"Digite o 1º número:\"))\n",
        "fim= int(input(\"Digite o 2º número:\"))\n",
        "\n",
        "if inicio>fim:\n",
        "    #aux = inicio\n",
        "    #inicio = fim\n",
        "    #fim = aux\n",
        "\n",
        "  inicio,fim = fim, inicio\n",
        "\n",
        "\n",
        "for x in range(inicio,fim+1):\n",
        "  print(x)"
      ],
      "metadata": {
        "colab": {
          "base_uri": "https://localhost:8080/"
        },
        "id": "UauwiBLgfbFM",
        "outputId": "23702cdb-1a96-481d-c50a-747e3f0a2963"
      },
      "execution_count": 75,
      "outputs": [
        {
          "output_type": "stream",
          "name": "stdout",
          "text": [
            "Digite o 1º número:7\n",
            "Digite o 2º número:2\n",
            "2\n",
            "3\n",
            "4\n",
            "5\n",
            "6\n",
            "7\n"
          ]
        }
      ]
    },
    {
      "cell_type": "code",
      "source": [],
      "metadata": {
        "id": "emH_UJTfp8hu"
      },
      "execution_count": null,
      "outputs": []
    },
    {
      "cell_type": "code",
      "source": [
        "#SOME TODOS OS NÚMEORS DE 1 A 10\n",
        "soma=1\n",
        "for a in range(1,11):\n",
        "   Soma = soma + a\n",
        "print(a)\n",
        "\n"
      ],
      "metadata": {
        "colab": {
          "base_uri": "https://localhost:8080/"
        },
        "id": "h__8qNuUjpqn",
        "outputId": "68e3a77f-4230-4a82-e4f6-4b5f3e3b0d67"
      },
      "execution_count": 70,
      "outputs": [
        {
          "output_type": "stream",
          "name": "stdout",
          "text": [
            "10\n"
          ]
        }
      ]
    },
    {
      "cell_type": "code",
      "source": [
        "#SOMA TODOS OS NÚMEROS IMPARES DE 1 ATÉ 100\n",
        "soma = 0\n",
        "for a in range (1,100):\n",
        "   if a%2==1 :\n",
        "    soma = soma + a\n",
        "print(soma)"
      ],
      "metadata": {
        "colab": {
          "base_uri": "https://localhost:8080/"
        },
        "id": "TyLVy4eslZr3",
        "outputId": "ae17ecca-fd27-485c-e6d8-d431398dc636"
      },
      "execution_count": 64,
      "outputs": [
        {
          "output_type": "stream",
          "name": "stdout",
          "text": [
            "2500\n"
          ]
        }
      ]
    },
    {
      "cell_type": "markdown",
      "source": [],
      "metadata": {
        "id": "rHJ1YpQioDpw"
      }
    },
    {
      "cell_type": "code",
      "source": [
        "#CONTADOR DE 1 A 10 COM WHILE\n",
        "num = 1\n",
        "while(num<=10):\n",
        "  print(num)\n",
        "  #num = num + 1\n",
        "  num+=1"
      ],
      "metadata": {
        "colab": {
          "base_uri": "https://localhost:8080/"
        },
        "id": "VEZglcCgoEDG",
        "outputId": "90df0880-2198-42ca-fc20-ae30d26b772e"
      },
      "execution_count": 72,
      "outputs": [
        {
          "output_type": "stream",
          "name": "stdout",
          "text": [
            "1\n",
            "2\n",
            "3\n",
            "4\n",
            "5\n",
            "6\n",
            "7\n",
            "8\n",
            "9\n",
            "10\n"
          ]
        }
      ]
    },
    {
      "cell_type": "code",
      "source": [],
      "metadata": {
        "id": "eE_yrupBxJuu"
      },
      "execution_count": null,
      "outputs": []
    },
    {
      "cell_type": "code",
      "source": [
        "#DIGITE NÚMEROS ATÉ QUE O USUÁRIO DIGITE 0\n",
        "numero = int(input(\"Digite um número\"))\n",
        "while numero !=0:\n",
        "  numero = int(input(\"Digite um Número\"))\n"
      ],
      "metadata": {
        "colab": {
          "base_uri": "https://localhost:8080/"
        },
        "id": "JF80o0CboB67",
        "outputId": "c7966b7c-768e-4b44-8fbd-0731d919204a"
      },
      "execution_count": 80,
      "outputs": [
        {
          "name": "stdout",
          "output_type": "stream",
          "text": [
            "Digite um número33\n",
            "Digite um Número2\n",
            "Digite um Número3\n",
            "Digite um Número4\n",
            "Digite um Número0\n"
          ]
        }
      ]
    },
    {
      "cell_type": "code",
      "source": [
        "#SOMAR NÚMEROS ATÉ QUE O UÚARIO DIGITE 0\n",
        "\n",
        "numero = int(input(\"Digite um número\"))\n",
        "soma= numero\n",
        "while numero !=0:\n",
        "  numero = int(input(\"Digite um Número\"))\n",
        "  soma += numero\n",
        "\n",
        "print(\"Total =\", soma)"
      ],
      "metadata": {
        "colab": {
          "base_uri": "https://localhost:8080/"
        },
        "id": "mf05pvS5xQhp",
        "outputId": "12aafa87-7c2c-4ef5-c4d9-a6e0e9006638"
      },
      "execution_count": 81,
      "outputs": [
        {
          "output_type": "stream",
          "name": "stdout",
          "text": [
            "Digite um número1\n",
            "Digite um Número2\n",
            "Digite um Número3\n",
            "Digite um Número0\n",
            "Total = 6\n"
          ]
        }
      ]
    },
    {
      "cell_type": "code",
      "source": [
        "# CRIANDO UM MENU DE OPÇÕES\n",
        "opcao = 0\n",
        "while opcao !=4:\n",
        "  print(\"ESCOLHA UMA OPÇÃO:\")\n",
        "  print(\"Digite 1 para opção 01\")\n",
        "  print(\"Digite 2 para opção 02\")\n",
        "  print(\"Digite 3 para opção 03\")\n",
        "  print(\"Digite 4 para sair\")\n",
        "  opcao = int(input(\"Sua opção =.\"))\n",
        "\n",
        "  if opcao ==1 :\n",
        "    print(\"Você escolheu a opção 01\")\n",
        "\n",
        "  if opcao ==2 :\n",
        "    print(\"Você escolheu a opção 02\")\n",
        "\n",
        "  if opcao ==3 :\n",
        "    print(\"Você escolheu a opção 03\")\n",
        "\n",
        "\n"
      ],
      "metadata": {
        "colab": {
          "base_uri": "https://localhost:8080/"
        },
        "id": "pMQOBhm4xN8B",
        "outputId": "0b4b518b-623d-4a20-af55-31ae56c3e0f5"
      },
      "execution_count": 96,
      "outputs": [
        {
          "name": "stdout",
          "output_type": "stream",
          "text": [
            "ESCOLHA UMA OPÇÃO:\n",
            "Digite 1 para opção 01\n",
            "Digite 2 para opção 02\n",
            "Digite 3 para opção 03\n",
            "Digite 4 para sair\n",
            "Sua opção =.1\n",
            "Você escolheu a opção 01\n",
            "ESCOLHA UMA OPÇÃO:\n",
            "Digite 1 para opção 01\n",
            "Digite 2 para opção 02\n",
            "Digite 3 para opção 03\n",
            "Digite 4 para sair\n",
            "Sua opção =.2\n",
            "Você escolheu a opção 02\n",
            "ESCOLHA UMA OPÇÃO:\n",
            "Digite 1 para opção 01\n",
            "Digite 2 para opção 02\n",
            "Digite 3 para opção 03\n",
            "Digite 4 para sair\n",
            "Sua opção =.3\n",
            "Você escolheu a opção 03\n",
            "ESCOLHA UMA OPÇÃO:\n",
            "Digite 1 para opção 01\n",
            "Digite 2 para opção 02\n",
            "Digite 3 para opção 03\n",
            "Digite 4 para sair\n",
            "Sua opção =.4\n"
          ]
        }
      ]
    },
    {
      "cell_type": "code",
      "source": [
        "#"
      ],
      "metadata": {
        "id": "58SEyosv1ffs"
      },
      "execution_count": null,
      "outputs": []
    }
  ]
}