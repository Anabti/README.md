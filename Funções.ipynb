{
  "nbformat": 4,
  "nbformat_minor": 0,
  "metadata": {
    "colab": {
      "provenance": [],
      "authorship_tag": "ABX9TyNC6jaksUGu7bsmi4H62wrO",
      "include_colab_link": true
    },
    "kernelspec": {
      "name": "python3",
      "display_name": "Python 3"
    },
    "language_info": {
      "name": "python"
    }
  },
  "cells": [
    {
      "cell_type": "markdown",
      "metadata": {
        "id": "view-in-github",
        "colab_type": "text"
      },
      "source": [
        "<a href=\"https://colab.research.google.com/github/Anabti/README.md/blob/main/Fun%C3%A7%C3%B5es.ipynb\" target=\"_parent\"><img src=\"https://colab.research.google.com/assets/colab-badge.svg\" alt=\"Open In Colab\"/></a>"
      ]
    },
    {
      "cell_type": "markdown",
      "source": [
        "**Função sem retorno e sem parametro**"
      ],
      "metadata": {
        "id": "RFLIgCPDbglc"
      }
    },
    {
      "cell_type": "code",
      "execution_count": 3,
      "metadata": {
        "colab": {
          "base_uri": "https://localhost:8080/"
        },
        "id": "Z4jV0eMBbdTo",
        "outputId": "8042af8f-5ed1-4721-ea95-6dbd8a7012b9"
      },
      "outputs": [
        {
          "output_type": "stream",
          "name": "stdout",
          "text": [
            "Bom dia \n"
          ]
        }
      ],
      "source": [
        "def mgs():\n",
        "    print(\"Bom dia \")\n",
        "\n",
        "mgs()"
      ]
    },
    {
      "cell_type": "markdown",
      "source": [
        "**Função sem retorno e com parametro**"
      ],
      "metadata": {
        "id": "BANTEWtZcE_B"
      }
    },
    {
      "cell_type": "code",
      "source": [
        "def potencia(base,expoente):\n",
        "  resultado = base  ** expoente\n",
        "  print(\"O resultado é: \", resultado)\n",
        "\n",
        "potencia(2,3)"
      ],
      "metadata": {
        "colab": {
          "base_uri": "https://localhost:8080/"
        },
        "id": "AboEwcMccQ_0",
        "outputId": "d80a8305-3a31-45fa-de2e-aca2835e14e8"
      },
      "execution_count": 7,
      "outputs": [
        {
          "output_type": "stream",
          "name": "stdout",
          "text": [
            "O resultado é:  8\n"
          ]
        }
      ]
    },
    {
      "cell_type": "code",
      "source": [
        "def raiz(num):\n",
        "  raiz = num ** 0.5\n",
        "  print(\"A Raiz Quadrada de:\",num,\"é igual a\",raiz)\n",
        "\n",
        "raiz(9)"
      ],
      "metadata": {
        "colab": {
          "base_uri": "https://localhost:8080/"
        },
        "id": "7vnEiYUlc9xa",
        "outputId": "bac1b67b-4c29-4af4-9958-e51b54ad8bc6"
      },
      "execution_count": 8,
      "outputs": [
        {
          "output_type": "stream",
          "name": "stdout",
          "text": [
            "A Raiz Quadrada de: 9 é igual a 3.0\n"
          ]
        }
      ]
    },
    {
      "cell_type": "markdown",
      "source": [
        "**Função com retorno e com parametro**"
      ],
      "metadata": {
        "id": "GsrztfLbd805"
      }
    },
    {
      "cell_type": "code",
      "source": [
        "def somar(x,y):\n",
        "  soma = x + y\n",
        "  return soma\n",
        "\n",
        "print(\"exemplo com retorno\")\n",
        "for i in range(3):\n",
        "  num1 = int(input(\"Digite o primeiro numéro:\"))\n",
        "  num2 = int(input(\"Digite o segundo numéro:\"))\n",
        "  retorno = somar (num1,num2)\n",
        "  print(\"Voltou da função:\",retorno)"
      ],
      "metadata": {
        "colab": {
          "base_uri": "https://localhost:8080/"
        },
        "id": "jAGRIZM7ewvV",
        "outputId": "7d3eb90b-9638-470c-9da5-eb290f5dc015"
      },
      "execution_count": 14,
      "outputs": [
        {
          "output_type": "stream",
          "name": "stdout",
          "text": [
            "exemplo com retorno\n",
            "Digite o primeiro numéro:1\n",
            "Digite o segundo numéro:2\n",
            "Voltou da função: 3\n",
            "Digite o primeiro numéro:3\n",
            "Digite o segundo numéro:4\n",
            "Voltou da função: 7\n",
            "Digite o primeiro numéro:5\n",
            "Digite o segundo numéro:6\n",
            "Voltou da função: 11\n"
          ]
        }
      ]
    },
    {
      "cell_type": "code",
      "source": [
        "def somar(x,y):\n",
        "  soma = x + y\n",
        "  return soma\n",
        "print(\"exemplo com retorno\")\n",
        "num1 = int(input(\"Digite o primeiro numéro:\"))\n",
        "num2 = int(input(\"Digite o segundo numéro:\"))\n",
        "retorno = somar (num1,num2)\n",
        "print(\"Voltou da função:\",retorno)"
      ],
      "metadata": {
        "colab": {
          "base_uri": "https://localhost:8080/"
        },
        "id": "pxeZxQUecOXj",
        "outputId": "032ebc9c-7be1-49a1-92ff-65bf1831b68a"
      },
      "execution_count": 15,
      "outputs": [
        {
          "output_type": "stream",
          "name": "stdout",
          "text": [
            "exemplo com retorno\n",
            "Digite o primeiro numéro:5\n",
            "Digite o segundo numéro:4\n",
            "Voltou da função: 9\n"
          ]
        }
      ]
    }
  ]
}