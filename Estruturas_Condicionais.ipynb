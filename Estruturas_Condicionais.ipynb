{
  "nbformat": 4,
  "nbformat_minor": 0,
  "metadata": {
    "colab": {
      "provenance": [],
      "authorship_tag": "ABX9TyOg0O4j5UZOPl2hZbFR6sz3",
      "include_colab_link": true
    },
    "kernelspec": {
      "name": "python3",
      "display_name": "Python 3"
    },
    "language_info": {
      "name": "python"
    }
  },
  "cells": [
    {
      "cell_type": "markdown",
      "metadata": {
        "id": "view-in-github",
        "colab_type": "text"
      },
      "source": [
        "<a href=\"https://colab.research.google.com/github/Anabti/README.md/blob/main/Estruturas_Condicionais.ipynb\" target=\"_parent\"><img src=\"https://colab.research.google.com/assets/colab-badge.svg\" alt=\"Open In Colab\"/></a>"
      ]
    },
    {
      "cell_type": "markdown",
      "source": [
        "**Estruturas Condicionais**"
      ],
      "metadata": {
        "id": "6iXMsSEIbfrs"
      }
    },
    {
      "cell_type": "code",
      "execution_count": 1,
      "metadata": {
        "colab": {
          "base_uri": "https://localhost:8080/"
        },
        "id": "3Egjrk4hbeMh",
        "outputId": "d047ced4-692b-4f08-e1aa-9ba8f6586e06"
      },
      "outputs": [
        {
          "name": "stdout",
          "output_type": "stream",
          "text": [
            "Digite a n1:4.5\n",
            "Digite a n2:6.1\n",
            "Digite a n3:5\n"
          ]
        }
      ],
      "source": [
        "# Avaliar se um aluno foi aprovado caso sua média de 3 notas seja maior ou igual a 5\n",
        "\n",
        "# Entrada das 3 notas\n",
        "n1= float(input(\"Digite a n1:\"))\n",
        "n2= float(input(\"Digite a n2:\"))\n",
        "n3= float(input(\"Digite a n3:\"))"
      ]
    },
    {
      "cell_type": "code",
      "source": [
        "# Processamento da Média\n",
        "media = (n1+n2+n3)/3\n",
        "media"
      ],
      "metadata": {
        "colab": {
          "base_uri": "https://localhost:8080/"
        },
        "id": "V55Qd8t-coPh",
        "outputId": "6bfba484-21b9-4c53-9e70-3a2c0cc23e06"
      },
      "execution_count": 2,
      "outputs": [
        {
          "output_type": "execute_result",
          "data": {
            "text/plain": [
              "5.2"
            ]
          },
          "metadata": {},
          "execution_count": 2
        }
      ]
    },
    {
      "cell_type": "code",
      "source": [
        "# Avaliando o valor da média se é maior ou igual a 5\n",
        "if(media>=5):\n",
        "    print(\"APROVADO\")\n",
        "print(\"Fim do programa...\")\n"
      ],
      "metadata": {
        "colab": {
          "base_uri": "https://localhost:8080/"
        },
        "id": "8OuKBHv4dhFY",
        "outputId": "b005b0f4-6453-480b-f799-4ee87e471c3c"
      },
      "execution_count": 3,
      "outputs": [
        {
          "output_type": "stream",
          "name": "stdout",
          "text": [
            "APROVADO\n",
            "Fim do programa...\n"
          ]
        }
      ]
    },
    {
      "cell_type": "code",
      "source": [
        "# Avaliar se o aluno foi aprovado ou reprovado caso sua média de 3 notas seja maior ou igual a 5\n",
        "# Entrada das 3 notas\n",
        "\n",
        "n1= float(input(\"Digite a n1:\"))\n",
        "n2= float(input(\"Digite a n2:\"))\n",
        "n3= float(input(\"Digite a n3:\"))\n",
        "\n",
        "# Processamento da Média\n",
        "media = (n1+n2+n3)/3\n",
        "media"
      ],
      "metadata": {
        "colab": {
          "base_uri": "https://localhost:8080/"
        },
        "id": "V2R002L0fIGM",
        "outputId": "fb425870-6d47-471e-ab88-b4c70e7256c9"
      },
      "execution_count": 4,
      "outputs": [
        {
          "name": "stdout",
          "output_type": "stream",
          "text": [
            "Digite a n1:4\n",
            "Digite a n2:4\n",
            "Digite a n3:5\n"
          ]
        },
        {
          "output_type": "execute_result",
          "data": {
            "text/plain": [
              "4.333333333333333"
            ]
          },
          "metadata": {},
          "execution_count": 4
        }
      ]
    },
    {
      "cell_type": "code",
      "source": [
        "if (media>=5):\n",
        "  print(\"APROVADO\")\n",
        "else :\n",
        "  print(\"REPROVADO\")\n",
        "print (\"Fim do Programa...\")"
      ],
      "metadata": {
        "colab": {
          "base_uri": "https://localhost:8080/"
        },
        "id": "-sEckcdkfydm",
        "outputId": "c154dec5-d296-4c91-dc9d-c3986058f7b4"
      },
      "execution_count": 5,
      "outputs": [
        {
          "output_type": "stream",
          "name": "stdout",
          "text": [
            "REPROVADO\n",
            "Fim do Programa...\n"
          ]
        }
      ]
    },
    {
      "cell_type": "code",
      "source": [
        "# Avaliar se o aluno foi aprovado,reprovado caso sua média de 3 notas seja\n",
        "# Aprovado media > 5\n",
        "# Reprovado media < 5\n",
        "# Recuperação media entre 4 e 5\n",
        "\n",
        "n1= float(input(\"Digite a n1:\"))\n",
        "n2= float(input(\"Digite a n2:\"))\n",
        "n3= float(input(\"Digite a n3:\"))\n",
        "\n",
        "# Processamento da Média\n",
        "media = (n1+n2+n3)/3\n",
        "media"
      ],
      "metadata": {
        "colab": {
          "base_uri": "https://localhost:8080/"
        },
        "id": "PNNEK61eh2_q",
        "outputId": "02594491-1120-41fc-f78c-b3b7e178f674"
      },
      "execution_count": 6,
      "outputs": [
        {
          "name": "stdout",
          "output_type": "stream",
          "text": [
            "Digite a n1:4\n",
            "Digite a n2:5\n",
            "Digite a n3:4\n"
          ]
        },
        {
          "output_type": "execute_result",
          "data": {
            "text/plain": [
              "4.333333333333333"
            ]
          },
          "metadata": {},
          "execution_count": 6
        }
      ]
    },
    {
      "cell_type": "code",
      "source": [
        "if media > 5 :\n",
        "  print(\"APROVADO\")\n",
        "else :\n",
        "  if media < 4 :\n",
        "    print (\"REPROVADO\")\n",
        "  else :\n",
        "    print(\"RECUPERAÇÃO\")\n",
        "  print (\"Fim do programa .....\")\n"
      ],
      "metadata": {
        "colab": {
          "base_uri": "https://localhost:8080/"
        },
        "id": "FNK7V0QUi6D6",
        "outputId": "14880629-5ea7-4583-9bec-68c2dde61855"
      },
      "execution_count": 8,
      "outputs": [
        {
          "output_type": "stream",
          "name": "stdout",
          "text": [
            "RECUPERAÇÃO\n",
            "Fim do programa .....\n"
          ]
        }
      ]
    },
    {
      "cell_type": "code",
      "source": [
        "if media > 5 :\n",
        "    print(\"APROVADO\")\n",
        "elif media < 4 :\n",
        "    print(\"REPROVADO\")\n",
        "else :\n",
        "    print(\"RECUPERAÇÃO\")\n",
        "print (\"Fim do programa .....\")"
      ],
      "metadata": {
        "colab": {
          "base_uri": "https://localhost:8080/"
        },
        "id": "0tjOkGmXkHEp",
        "outputId": "4c736f78-cf22-46e9-d959-1370e051e816"
      },
      "execution_count": 13,
      "outputs": [
        {
          "output_type": "stream",
          "name": "stdout",
          "text": [
            "RECUPERAÇÃO\n",
            "Fim do programa .....\n"
          ]
        }
      ]
    },
    {
      "cell_type": "code",
      "source": [],
      "metadata": {
        "id": "rVQGIPwMotwI"
      },
      "execution_count": null,
      "outputs": []
    }
  ]
}