{
  "nbformat": 4,
  "nbformat_minor": 0,
  "metadata": {
    "colab": {
      "provenance": [],
      "authorship_tag": "ABX9TyOVhiT0GByJx8MH/j+AjH3E",
      "include_colab_link": true
    },
    "kernelspec": {
      "name": "python3",
      "display_name": "Python 3"
    },
    "language_info": {
      "name": "python"
    }
  },
  "cells": [
    {
      "cell_type": "markdown",
      "metadata": {
        "id": "view-in-github",
        "colab_type": "text"
      },
      "source": [
        "<a href=\"https://colab.research.google.com/github/Anabti/README.md/blob/main/Tri%C3%A2ngulo_L%C3%B3gico.ipynb\" target=\"_parent\"><img src=\"https://colab.research.google.com/assets/colab-badge.svg\" alt=\"Open In Colab\"/></a>"
      ]
    },
    {
      "cell_type": "markdown",
      "source": [
        "**Exercicío de Trângulos lógico**s"
      ],
      "metadata": {
        "id": "2QzdGqWbUGkq"
      }
    },
    {
      "cell_type": "code",
      "source": [
        "a= int (input(\"Digite o primeiro triângulo:\"))\n",
        "b= int (input(\"Digite o segundo triângulo :\"))\n",
        "c= int (input (\"Digite o terceiro triângulo\"))\n",
        "\n",
        "triangulo = ((a+b>c) and (b+a>c) and (a+c>b))\n",
        "\n",
        "\n",
        "print(\"isso é um triângulo:\",triangulo)"
      ],
      "metadata": {
        "colab": {
          "base_uri": "https://localhost:8080/"
        },
        "id": "naN7HhZEV2HS",
        "outputId": "d6a207cb-8411-4fe4-a510-33db2406031d"
      },
      "execution_count": 8,
      "outputs": [
        {
          "output_type": "stream",
          "name": "stdout",
          "text": [
            "Digite o primeiro triângulo:5\n",
            "Digite o segundo triângulo :3\n",
            "Digite o terceiro triângulo1\n",
            "isso é um triângulo: True\n"
          ]
        }
      ]
    },
    {
      "cell_type": "markdown",
      "source": [
        "**Triângulo Equilatero**"
      ],
      "metadata": {
        "id": "dg837q4uYZ4O"
      }
    },
    {
      "cell_type": "code",
      "source": [
        "a= int (input(\"Digite o primeiro triângulo:\"))\n",
        "b= int (input(\"Digite o segundo triângulo :\"))\n",
        "c= int (input (\"Digite o terceiro triângulo\"))\n",
        "\n",
        "triângulo = (a==b) and (b==c) and (a==c)\n",
        "\n",
        "print(\"isso é um triângulo Equilatero:\",triangulo)"
      ],
      "metadata": {
        "colab": {
          "base_uri": "https://localhost:8080/"
        },
        "id": "4xryOhILX77b",
        "outputId": "86fc3075-e1c7-4694-fad8-a47450033047"
      },
      "execution_count": 9,
      "outputs": [
        {
          "output_type": "stream",
          "name": "stdout",
          "text": [
            "Digite o primeiro triângulo:5\n",
            "Digite o segundo triângulo :3\n",
            "Digite o terceiro triângulo1\n",
            "isso é um triângulo Equilatero: True\n"
          ]
        }
      ]
    },
    {
      "cell_type": "markdown",
      "source": [
        "**Triângulo Isosceles**"
      ],
      "metadata": {
        "id": "Z1WKloCbZT_E"
      }
    },
    {
      "cell_type": "code",
      "source": [
        "a= int (input(\"Digite o primeiro triângulo:\"))\n",
        "b= int (input(\"Digite o segundo triângulo :\"))\n",
        "c= int (input (\"Digite o terceiro triângulo\"))\n",
        "\n",
        "triângulo = (a!=b) and (b!=)"
      ],
      "metadata": {
        "id": "Jue4gvz_ZdUR"
      },
      "execution_count": null,
      "outputs": []
    },
    {
      "cell_type": "markdown",
      "source": [],
      "metadata": {
        "id": "7szKcr6jTl6n"
      }
    }
  ]
}